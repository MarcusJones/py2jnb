{
 "cells": [
  {
   "cell_type": "code",
   "execution_count": null,
   "metadata": {},
   "outputs": [],
   "source": [
    "\"\"\"\n",
    "# Hello\n",
    "\n",
    "Demonstrate:\n",
    "* conversion of regular python script into _Jupyter notebook_\n",
    "* support **Markdown**\n",
    "* this is a list\n",
    "\"\"\"\n",
    "\n",
    "from __future__ import absolute_import, print_function, division\n",
    "\n",
    "\"\"\"\n",
    "## Hello\n",
    "\n",
    "This is a *hello world* function.\n",
    "\n",
    "\"\"\"\n",
    "\n",
    "\n",
    "def hello():\n",
    "    \"\"\"\n",
    "    This is a docstring\n",
    "    \"\"\"\n",
    "    print(\"hello\")\n",
    "\n",
    "\n",
    "\"\"\"\n",
    "## Another Cell 1\n",
    "\"\"\"\n",
    "\n",
    "\n",
    "def main():\n",
    "    hello()\n",
    "\n",
    "\n",
    "\"\"\"\n",
    "### Run this\n",
    "\"\"\"\n",
    "\n",
    "if __name__ == '__main__':\n",
    "    def what():\n",
    "        main()\n",
    "    print(what())\n",
    "\n",
    "\n",
    "\"\"\"\n",
    "## Another Cell 2\n",
    "\"\"\""
   ]
  }
 ],
 "metadata": {
  "jupytext_formats": "py:percent",
  "kernelspec": {
   "display_name": "Python 3",
   "language": "python",
   "name": "python3"
  },
  "language_info": {
   "codemirror_mode": {
    "name": "ipython",
    "version": 3
   },
   "file_extension": ".py",
   "mimetype": "text/x-python",
   "name": "python",
   "nbconvert_exporter": "python",
   "pygments_lexer": "ipython3",
   "version": "3.6.5"
  },
  "main_language": "python"
 },
 "nbformat": 4,
 "nbformat_minor": 2
}
