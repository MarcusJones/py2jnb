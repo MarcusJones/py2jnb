{
 "cells": [
  {
   "cell_type": "raw",
   "metadata": {},
   "source": [
    "---\n",
    "title: Simple file\n",
    "---"
   ]
  },
  {
   "cell_type": "code",
   "execution_count": null,
   "metadata": {},
   "outputs": [],
   "source": [
    "# Here we have some text\n",
    "# And below we have some python code\n",
    "def f(x):\n",
    "    return x+1\n",
    "def h(y):\n",
    "    return y-1\n",
    "\n",
    "\n",
    "# Hello\n",
    "\n",
    "# Demonstrate:\n",
    "# * conversion of regular python script into _Jupyter notebook_\n",
    "# * support **Markdown**\n",
    "# * this is a list\n"
   ]
  },
  {
   "cell_type": "code",
   "execution_count": null,
   "metadata": {
    "title": "# SCI CELL TEST1"
   },
   "outputs": [],
   "source": [
    "\n",
    "from __future__ import absolute_import, print_function, division\n",
    "\n",
    "\"\"\"\n",
    "## Hello\n",
    "\n",
    "This is a *hello world* function.\n",
    "\n",
    "\"\"\""
   ]
  },
  {
   "cell_type": "code",
   "execution_count": null,
   "metadata": {
    "title": "SCI CELL TEST1"
   },
   "outputs": [],
   "source": [
    "def hello():\n",
    "    \"\"\"\n",
    "    This is a docstring\n",
    "    \"\"\"\n",
    "    print(\"hello\")\n",
    "\n",
    "\n",
    "\"\"\"\n",
    "## Another Cell 1\n",
    "\"\"\"\n",
    "\n",
    "\n",
    "def main():\n",
    "    hello()\n",
    "\n",
    "\n",
    "\"\"\"\n",
    "### Run this\n",
    "\"\"\"\n",
    "\n",
    "if __name__ == '__main__':\n",
    "    def what():\n",
    "        main()\n",
    "    print(what())\n",
    "\n",
    "\n",
    "\"\"\"\n",
    "## Another Cell 2\n",
    "\"\"\"\n",
    "\n",
    "\n",
    "import pandas as pd\n",
    "# +\n",
    "def data():\n",
    "    return pd.DataFrame({'A': [0, 1]})\n",
    "data()\n",
    "# +\n",
    "def data2():\n",
    "    return pd.DataFrame({'B': [0, 1]})\n",
    "data2()\n",
    "# +\n",
    "# Finally we have a cell with only comments\n",
    "# This cell should remain a code cell and not get converted\n",
    "# to markdown\n",
    "# + {\"endofcell\": \"--\"}\n",
    "# This cell has an enumeration in it that should not\n",
    "# match the endofcell marker!\n",
    "# - item 1\n",
    "# - item 2\n",
    "# -\n",
    "# --"
   ]
  }
 ],
 "metadata": {
  "jupytext_formats": "py:percent",
  "main_language": "python"
 },
 "nbformat": 4,
 "nbformat_minor": 2
}
